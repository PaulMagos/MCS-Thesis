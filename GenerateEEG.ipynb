{
 "cells": [
  {
   "cell_type": "code",
   "execution_count": 9,
   "metadata": {},
   "outputs": [],
   "source": [
    "from GT import get_dataset, denormalize, normalize\n",
    "import matplotlib.pyplot as plt\n",
    "from GT import GTM\n",
    "from GT import gmm_loss\n",
    "import json\n",
    "import torch\n",
    "import numpy as np\n",
    "import os\n",
    "\n",
    "DATASET_NAME = 'SynteticSin2'\n",
    "MODEL_NAME= 'GMM'\n",
    "\n",
    "# Magic\n",
    "MODELS_PATH = f'./models'\n",
    "IMAGES_PATH = f'./PNG'\n",
    "DEVICE = 'cuda:1' if torch.cuda.is_available() else 'cpu' if torch.backends.mps.is_available() else 'cpu'\n",
    "torch.set_default_device(DEVICE)"
   ]
  },
  {
   "cell_type": "code",
   "execution_count": 10,
   "metadata": {},
   "outputs": [],
   "source": [
    "if not os.path.exists(f'{MODELS_PATH}/'):\n",
    "    os.mkdir(f'{MODELS_PATH}/')\n",
    "if not os.path.exists(f'{MODELS_PATH}/{DATASET_NAME}/'):\n",
    "    os.mkdir(f'{MODELS_PATH}/{DATASET_NAME}')\n",
    "if not os.path.exists(f'{IMAGES_PATH}/'):\n",
    "    os.mkdir(f'{IMAGES_PATH}/')\n",
    "if not os.path.exists(f'{IMAGES_PATH}/{DATASET_NAME}/'):\n",
    "    os.mkdir(f'{IMAGES_PATH}/{DATASET_NAME}')\n",
    "if not os.path.exists(f'{IMAGES_PATH}/{DATASET_NAME}/History/'):\n",
    "    os.mkdir(f'{IMAGES_PATH}/{DATASET_NAME}/History')\n",
    "if not os.path.exists(f'{IMAGES_PATH}/{DATASET_NAME}/Train/'):\n",
    "    os.mkdir(f'{IMAGES_PATH}/{DATASET_NAME}/Train')\n",
    "if not os.path.exists(f'{IMAGES_PATH}/{DATASET_NAME}/Validation/'):\n",
    "    os.mkdir(f'{IMAGES_PATH}/{DATASET_NAME}/Validation')\n",
    "if not os.path.exists(f'{IMAGES_PATH}/{DATASET_NAME}/Test/'):\n",
    "    os.mkdir(f'{IMAGES_PATH}/{DATASET_NAME}/Test')"
   ]
  },
  {
   "cell_type": "markdown",
   "metadata": {},
   "source": [
    "## Model parameters"
   ]
  },
  {
   "cell_type": "code",
   "execution_count": 11,
   "metadata": {},
   "outputs": [],
   "source": [
    "# Model Parameters 100 hidden\n",
    "hidden_size = 32\n",
    "num_layers = 1\n",
    "lr = 0.001\n",
    "weight_decay = 0.001\n",
    "# weight_decay = 0\n",
    "dropout = 0\n",
    "bidirectional = True\n",
    "mixture_dim = 40\n",
    "debug = False\n",
    "train_from_checkpoint = True"
   ]
  },
  {
   "cell_type": "markdown",
   "metadata": {},
   "source": [
    "## Dataset"
   ]
  },
  {
   "cell_type": "code",
   "execution_count": 12,
   "metadata": {},
   "outputs": [
    {
     "name": "stdout",
     "output_type": "stream",
     "text": [
      "SynteticSin2 DATA\n",
      "________________________________________\n",
      "Original Dataset: \t472\n",
      "Train Split: \t\t330 \t(70%)\n",
      "Validation Split: \t94 \t(20%)\n",
      "Test Split: \t\t48 \t(10%)\n",
      "________________________________________\n"
     ]
    }
   ],
   "source": [
    "# Dataset Split\n",
    "Train, Validation, Test = get_dataset(DATASET_NAME)\n",
    "\n",
    "# train_data = normalize(Train, 'EEG')[:500]\n",
    "train_data = Train\n",
    "train_data = torch.Tensor(train_data)\n",
    "train_label = train_data\n",
    "train_data = train_data[:-1]\n",
    "train_label = train_label[1:]\n",
    "\n",
    "# validation_data = normalize(Validation, 'EEG')\n",
    "validation_data = Validation\n",
    "validation_data = torch.Tensor(validation_data)\n",
    "validation_label = validation_data\n",
    "validation_data = validation_data[:-1]\n",
    "validation_label = validation_label[1:]\n",
    "\n",
    "input_size = train_data.shape[-1]\n",
    "output_size = input_size\n",
    "num_time_steps = len(train_data)"
   ]
  },
  {
   "cell_type": "markdown",
   "metadata": {},
   "source": [
    "## Model Train"
   ]
  },
  {
   "cell_type": "code",
   "execution_count": 13,
   "metadata": {},
   "outputs": [
    {
     "name": "stdout",
     "output_type": "stream",
     "text": [
      "Model not present or incompatible\n",
      "Starting training...\n"
     ]
    },
    {
     "name": "stderr",
     "output_type": "stream",
     "text": [
      "Loss -2.2314946705307173: 100%|██████████| 329/329 [00:39<00:00,  8.23it/s]\n"
     ]
    },
    {
     "name": "stdout",
     "output_type": "stream",
     "text": [
      "Epoch 1 - loss: -2.2409656564153075\n"
     ]
    },
    {
     "name": "stderr",
     "output_type": "stream",
     "text": [
      "Loss -2.5381095982229227: 100%|██████████| 329/329 [00:39<00:00,  8.27it/s]\n"
     ]
    },
    {
     "name": "stdout",
     "output_type": "stream",
     "text": [
      "Epoch 2 - loss: -2.5532693479742323\n"
     ]
    },
    {
     "name": "stderr",
     "output_type": "stream",
     "text": [
      "Loss -3.0464176862236587: 100%|██████████| 329/329 [00:39<00:00,  8.23it/s]\n"
     ]
    },
    {
     "name": "stdout",
     "output_type": "stream",
     "text": [
      "Epoch 3 - loss: -3.059419526681757\n"
     ]
    },
    {
     "name": "stderr",
     "output_type": "stream",
     "text": [
      "Loss -3.4595895869210596: 100%|██████████| 329/329 [00:40<00:00,  8.16it/s]\n"
     ]
    },
    {
     "name": "stdout",
     "output_type": "stream",
     "text": [
      "Epoch 4 - loss: -3.472677369344425\n"
     ]
    },
    {
     "name": "stderr",
     "output_type": "stream",
     "text": [
      "Loss -3.795718619570925: 100%|██████████| 329/329 [00:39<00:00,  8.27it/s] \n"
     ]
    },
    {
     "name": "stdout",
     "output_type": "stream",
     "text": [
      "Epoch 5 - loss: -3.8057943493761917\n"
     ]
    },
    {
     "name": "stderr",
     "output_type": "stream",
     "text": [
      "Loss -3.8370146049372273: 100%|██████████| 329/329 [00:39<00:00,  8.27it/s]\n"
     ]
    },
    {
     "name": "stdout",
     "output_type": "stream",
     "text": [
      "Epoch 6 - loss: -3.8406517371439057\n"
     ]
    },
    {
     "name": "stderr",
     "output_type": "stream",
     "text": [
      "Loss -3.911094100739679: 100%|██████████| 329/329 [00:39<00:00,  8.31it/s] \n"
     ]
    },
    {
     "name": "stdout",
     "output_type": "stream",
     "text": [
      "Epoch 7 - loss: -3.9093775680985043\n"
     ]
    },
    {
     "name": "stderr",
     "output_type": "stream",
     "text": [
      "Loss -3.8244910838598867: 100%|██████████| 329/329 [00:39<00:00,  8.30it/s]\n"
     ]
    },
    {
     "name": "stdout",
     "output_type": "stream",
     "text": [
      "Epoch 8 - loss: -3.834630391206649\n"
     ]
    },
    {
     "name": "stderr",
     "output_type": "stream",
     "text": [
      "Loss -3.7147205021998313: 100%|██████████| 329/329 [00:39<00:00,  8.29it/s]\n"
     ]
    },
    {
     "name": "stdout",
     "output_type": "stream",
     "text": [
      "Epoch 9 - loss: -3.7169625104481416\n"
     ]
    },
    {
     "name": "stderr",
     "output_type": "stream",
     "text": [
      "Loss -3.773762809266438: 100%|██████████| 329/329 [00:39<00:00,  8.29it/s] \n"
     ]
    },
    {
     "name": "stdout",
     "output_type": "stream",
     "text": [
      "Epoch 10 - loss: -3.7710741523930684\n"
     ]
    },
    {
     "name": "stderr",
     "output_type": "stream",
     "text": [
      "Loss -3.7467097538455194: 100%|██████████| 329/329 [00:39<00:00,  8.28it/s]\n"
     ]
    },
    {
     "name": "stdout",
     "output_type": "stream",
     "text": [
      "Epoch 11 - loss: -3.7535362802184045\n"
     ]
    },
    {
     "name": "stderr",
     "output_type": "stream",
     "text": [
      "Loss -3.639279738203492: 100%|██████████| 329/329 [00:39<00:00,  8.29it/s] \n"
     ]
    },
    {
     "name": "stdout",
     "output_type": "stream",
     "text": [
      "Epoch 12 - loss: -3.645498683564308\n"
     ]
    },
    {
     "name": "stderr",
     "output_type": "stream",
     "text": [
      "Loss -3.7365906693482325: 100%|██████████| 329/329 [00:39<00:00,  8.28it/s]\n"
     ]
    },
    {
     "name": "stdout",
     "output_type": "stream",
     "text": [
      "Epoch 13 - loss: -3.7469916671605095\n"
     ]
    },
    {
     "name": "stderr",
     "output_type": "stream",
     "text": [
      "Loss -3.7132393965741324: 100%|██████████| 329/329 [00:39<00:00,  8.30it/s]\n"
     ]
    },
    {
     "name": "stdout",
     "output_type": "stream",
     "text": [
      "Epoch 14 - loss: -3.713485293936743\n"
     ]
    },
    {
     "name": "stderr",
     "output_type": "stream",
     "text": [
      "Loss -3.438726551401374: 100%|██████████| 329/329 [00:39<00:00,  8.29it/s] \n"
     ]
    },
    {
     "name": "stdout",
     "output_type": "stream",
     "text": [
      "Epoch 15 - loss: -3.445265972833956\n"
     ]
    },
    {
     "name": "stderr",
     "output_type": "stream",
     "text": [
      "Loss -3.666913619758184: 100%|██████████| 329/329 [00:39<00:00,  8.30it/s] \n"
     ]
    },
    {
     "name": "stdout",
     "output_type": "stream",
     "text": [
      "Epoch 16 - loss: -3.669747592196276\n"
     ]
    },
    {
     "name": "stderr",
     "output_type": "stream",
     "text": [
      "Loss -3.8223594175506603: 100%|██████████| 329/329 [00:39<00:00,  8.32it/s]"
     ]
    },
    {
     "name": "stdout",
     "output_type": "stream",
     "text": [
      "Epoch 17 - loss: -3.8277974350655333\n",
      "Early Stopped at epoch 17 with loss -3.8277974350655333\n"
     ]
    },
    {
     "name": "stderr",
     "output_type": "stream",
     "text": [
      "\n"
     ]
    }
   ],
   "source": [
    "# Model Train\n",
    "model = GTM(input_size, output_size, hidden_size, mixture_dim, dropout, num_layers, bidirectional, gmm_loss, lr, weight_decay, ['EarlyStopping'], DEVICE, debug)\n",
    "\n",
    "configs = input_size, output_size, hidden_size, mixture_dim, dropout, num_layers, bidirectional, lr, weight_decay, ['EarlyStopping'], DEVICE, debug\n",
    "try:\n",
    "    state_dict = torch.load(f'{MODELS_PATH}/{DATASET_NAME}/{MODEL_NAME}_{DATASET_NAME}')\n",
    "    model.load_state_dict(state_dict)\n",
    "except:\n",
    "    print('Model not present or incompatible')\n",
    "    train_from_checkpoint = True\n",
    "\n",
    "if train_from_checkpoint:\n",
    "    model, history = model.train_step(train_data, train_label, 100, 10)\n",
    "    torch.save(model.state_dict(), f'{MODELS_PATH}/{DATASET_NAME}/{MODEL_NAME}_{DATASET_NAME}')\n",
    "    with open(f'{MODELS_PATH}/{DATASET_NAME}/{MODEL_NAME}.hist', 'w') as hist:\n",
    "        json.dump(history, hist)\n",
    "    with open(f'{MODELS_PATH}/{DATASET_NAME}/{MODEL_NAME}.config', 'w') as config: \n",
    "        json.dump(configs, config)"
   ]
  },
  {
   "cell_type": "code",
   "execution_count": 14,
   "metadata": {},
   "outputs": [
    {
     "data": {
      "text/plain": [
       "<Figure size 640x480 with 0 Axes>"
      ]
     },
     "metadata": {},
     "output_type": "display_data"
    }
   ],
   "source": [
    "with open(f'{MODELS_PATH}/{DATASET_NAME}/{MODEL_NAME}.hist', 'r') as hist:\n",
    "    history = json.load(hist)\n",
    "    \n",
    "for key, values in history.items():\n",
    "    plt.plot(values, label=key)\n",
    "plt.savefig(f'{IMAGES_PATH}/{DATASET_NAME}/History/{MODEL_NAME}_History.png')\n",
    "plt.clf()"
   ]
  },
  {
   "cell_type": "markdown",
   "metadata": {},
   "source": [
    "## Predict on Train"
   ]
  },
  {
   "cell_type": "code",
   "execution_count": 15,
   "metadata": {},
   "outputs": [
    {
     "name": "stderr",
     "output_type": "stream",
     "text": [
      "100%|██████████| 175/175 [00:01<00:00, 116.74it/s]\n"
     ]
    },
    {
     "data": {
      "text/plain": [
       "<Figure size 640x480 with 0 Axes>"
      ]
     },
     "metadata": {},
     "output_type": "display_data"
    }
   ],
   "source": [
    "SPLIT_NAME = 'Train'\n",
    "\n",
    "# output = denormalize(model.predict_step(train_data, start=0, steps=50, mode='sum'))\n",
    "output = model.predict_step(train_data, start=25, steps=175, mode='mean')\n",
    "\n",
    "# data_true = denormalize(train_label[0:50, :, :].numpy())\n",
    "data_true = train_label[25:200, :, :].numpy()\n",
    "data_predicted = output.reshape(output.shape[0], output.shape[-1])\n",
    "data_true = data_true.reshape(data_true.shape[0], data_true.shape[-1])\n",
    "for i in range(data_true.shape[-1]):\n",
    "    first_elements_arr1 = [subarr[i] for subarr in data_true]\n",
    "    first_elements_arr2 = [subarr[i] for subarr in data_predicted]\n",
    "    # Plotting\n",
    "    plt.plot(first_elements_arr1, label='True')\n",
    "    plt.plot(first_elements_arr2, label='Predicted')\n",
    "    plt.xlabel('Index')\n",
    "    plt.ylabel('Values')\n",
    "    plt.title(f'Line Plot of Train Feature {i}')\n",
    "    plt.legend()\n",
    "    plt.savefig(f'{IMAGES_PATH}/{DATASET_NAME}/{SPLIT_NAME}/{MODEL_NAME}_Feature_{i}.png')\n",
    "    plt.clf()"
   ]
  },
  {
   "cell_type": "markdown",
   "metadata": {},
   "source": [
    "## Generate on Train"
   ]
  },
  {
   "cell_type": "code",
   "execution_count": 16,
   "metadata": {},
   "outputs": [
    {
     "name": "stderr",
     "output_type": "stream",
     "text": [
      "100%|██████████| 175/175 [00:01<00:00, 121.36it/s]\n"
     ]
    },
    {
     "data": {
      "text/plain": [
       "<Figure size 640x480 with 0 Axes>"
      ]
     },
     "metadata": {},
     "output_type": "display_data"
    }
   ],
   "source": [
    "# output = denormalize(model.generate_step(train_data, start=0, steps=200, mode='mean'))\n",
    "output = model.generate_step(train_data, start=25, steps=175, mode='mean')\n",
    "\n",
    "# data_true = denormalize(train_label[0:200, :, :].numpy())\n",
    "data_true = train_label[25:200, :, :].numpy()\n",
    "data_predicted = output.reshape(output.shape[0], output.shape[-1])\n",
    "data_true = data_true.reshape(data_true.shape[0], data_true.shape[-1])\n",
    "for i in range(data_true.shape[-1]):\n",
    "    first_elements_arr1 = [subarr[i] for subarr in data_true]\n",
    "    first_elements_arr2 = [subarr[i] for subarr in data_predicted]\n",
    "    # Plotting\n",
    "    plt.plot(first_elements_arr1, label='True')\n",
    "    plt.plot(first_elements_arr2, label='Generated')\n",
    "    plt.xlabel('Index')\n",
    "    plt.ylabel('Values')\n",
    "    plt.title(f'Line Plot of Train Feature {i}')\n",
    "    plt.legend()\n",
    "    plt.savefig(f'{IMAGES_PATH}/{DATASET_NAME}/{SPLIT_NAME}/{MODEL_NAME}_Feature_{i}_GEN.png')\n",
    "    plt.clf()"
   ]
  }
 ],
 "metadata": {
  "kernelspec": {
   "display_name": ".venv",
   "language": "python",
   "name": "python3"
  },
  "language_info": {
   "codemirror_mode": {
    "name": "ipython",
    "version": 3
   },
   "file_extension": ".py",
   "mimetype": "text/x-python",
   "name": "python",
   "nbconvert_exporter": "python",
   "pygments_lexer": "ipython3",
   "version": "3.12.3"
  }
 },
 "nbformat": 4,
 "nbformat_minor": 2
}
