{
 "cells": [
  {
   "cell_type": "code",
   "execution_count": 17,
   "metadata": {},
   "outputs": [],
   "source": [
    "import torch\n",
    "from torch import nn, optim\n",
    "import numpy as np\n",
    "import matplotlib.pyplot as plt\n",
    "import pandas as pd\n",
    "import pickle\n",
    "import os\n",
    "!pip freeze > requirements.txt\n",
    "# device = 'cuda' if torch.cuda.is_available() else 'mps' if torch.backends.mps.is_available() else 'cpu'\n",
    "device = 'cpu'\n",
    "\n",
    "hidden_size = 10\n",
    "input_size = 370\n",
    "output_size = 370\n",
    "num_layers = 5\n",
    "lr = 0.01\n",
    "num_time_steps = 50"
   ]
  },
  {
   "cell_type": "code",
   "execution_count": 18,
   "metadata": {},
   "outputs": [
    {
     "name": "stdout",
     "output_type": "stream",
     "text": [
      "Train Split: 98179\n",
      "Validation Split: 28051\n",
      "Test Split: 14026\n"
     ]
    }
   ],
   "source": [
    "if not os.path.exists('data/train.pkl'):\n",
    "    data = pd.read_csv(f'data/LD2011_2014.txt', sep=\";\")\n",
    "    data.columns = ['Date'] + list(data.columns[1:])\n",
    "    data[data.columns[1:]] = data[data.columns[1:]].apply(lambda x: [str(el).replace(',', '.') for el in x]).astype('float64')\n",
    "    data['Date'] = data['Date'].astype('datetime64[ns]')\n",
    "    train, validation, test = \\\n",
    "                np.split(data.sample(frac=1, random_state=42), \n",
    "                        [int(.7*len(data)), int(.9*len(data))])\n",
    "                \n",
    "    pickle.dump(train, open('data/train.pkl', 'wb'))\n",
    "    pickle.dump(validation, open('data/validation.pkl', 'wb'))\n",
    "    pickle.dump(test, open('data/test.pkl', 'wb'))\n",
    "                \n",
    "    print(f'Original Dataset: {len(data)}\\nTrain Split: {len(train)}\\nValidation Split: {len(validation)}\\nTest Split: {len(test)}')\n",
    "else:\n",
    "    train = pickle.load(open('data/train.pkl', 'rb'))\n",
    "    validation = pickle.load(open('data/validation.pkl', 'rb'))\n",
    "    test = pickle.load(open('data/test.pkl', 'rb'))\n",
    "    print(f'Train Split: {len(train)}\\nValidation Split: {len(validation)}\\nTest Split: {len(test)}')\n",
    "    "
   ]
  },
  {
   "cell_type": "code",
   "execution_count": 22,
   "metadata": {},
   "outputs": [
    {
     "name": "stdout",
     "output_type": "stream",
     "text": [
      "RNN(370, 10, num_layers=5, dropout=0.2)\n",
      "                      Date     MT_001     MT_002    MT_003      MT_004  \\\n",
      "126107 2014-08-06 15:00:00  15.228426  33.428165  1.737619   85.365854   \n",
      "86577  2013-06-20 20:30:00   5.076142  40.540541  2.606429  115.853659   \n",
      "131762 2014-10-04 12:45:00   1.269036  32.005690  1.737619  107.723577   \n",
      "75228  2013-02-22 15:15:00   3.807107  27.738265  2.606429   99.593496   \n",
      "43795  2012-04-01 05:00:00  17.766497  19.203414  1.737619   65.040650   \n",
      "...                    ...        ...        ...       ...         ...   \n",
      "96633  2013-10-03 14:30:00  19.035533  28.449502  1.737619   69.105691   \n",
      "16026  2011-06-16 22:45:00   0.000000   0.000000  0.000000    0.000000   \n",
      "125665 2014-08-02 00:30:00  17.766497  30.583215  1.737619  144.308943   \n",
      "125655 2014-08-01 22:00:00  16.497462  30.583215  1.737619  132.113821   \n",
      "95684  2013-09-23 17:15:00  13.959391  32.005690  1.737619  113.821138   \n",
      "\n",
      "           MT_005      MT_006     MT_007      MT_008     MT_009  ...  \\\n",
      "126107  39.024390  163.690476  26.003392  303.030303  34.965035  ...   \n",
      "86577   37.804878  235.119048   3.391747  262.626263  68.181818  ...   \n",
      "131762  36.585366  202.380952   4.522329  306.397306  57.692308  ...   \n",
      "75228   54.878049  217.261905   2.826456  249.158249  75.174825  ...   \n",
      "43795   32.926829  104.166667   3.391747  168.350168  40.209790  ...   \n",
      "...           ...         ...        ...         ...        ...  ...   \n",
      "96633   41.463415  220.238095   2.261164  259.259259  82.167832  ...   \n",
      "16026    0.000000    0.000000   0.000000    0.000000   0.000000  ...   \n",
      "125665  51.219512  151.785714  28.264556  232.323232  40.209790  ...   \n",
      "125655  63.414634  226.190476  31.091012  265.993266  68.181818  ...   \n",
      "95684   45.121951  187.500000   2.826456  269.360269  55.944056  ...   \n",
      "\n",
      "            MT_361    MT_362       MT_363       MT_364      MT_365     MT_366  \\\n",
      "126107  727.337616  140700.0  4624.472574  7704.545455  169.491525   6.436513   \n",
      "86577   458.244111   76100.0  3194.092827  7659.090909  116.036506   9.947338   \n",
      "131762  583.154889  102900.0  4248.945148  7068.181818  179.921773   8.777063   \n",
      "75228   306.209850   41100.0  3177.215190  5545.454545  104.302477   2.925688   \n",
      "43795    89.221984   14600.0   945.147679  2568.181818   48.239896   7.606788   \n",
      "...            ...       ...          ...          ...         ...        ...   \n",
      "96633   548.893647  101700.0  5075.949367  7045.454545  156.453716  16.383850   \n",
      "16026     0.000000       0.0     0.000000     0.000000    0.000000   0.000000   \n",
      "125665  142.041399   46300.0   962.025316  2159.090909  121.251630  32.182563   \n",
      "125655  462.526767   95300.0  3299.578059  7113.636364  159.061278  28.671738   \n",
      "95684   563.169165  118400.0  5413.502110  7568.181818  160.365059  35.693388   \n",
      "\n",
      "            MT_367      MT_368       MT_369        MT_370  \n",
      "126107  668.129939  120.200334  1220.674487  20540.540541  \n",
      "86577   440.737489  267.111853   909.824047  20216.216216  \n",
      "131762  606.672520  113.522538   832.111437  18324.324324  \n",
      "75228   656.716418  128.547579   962.609971  13081.081081  \n",
      "43795   291.483758   50.083472   715.542522      0.000000  \n",
      "...            ...         ...          ...           ...  \n",
      "96633   664.618086  131.886477   971.407625  19027.027027  \n",
      "16026     0.000000    0.000000     0.000000      0.000000  \n",
      "125665  808.604039  173.622705   796.187683  20270.270270  \n",
      "125655  659.350307  196.994992   937.683284  19189.189189  \n",
      "95684   612.818262  227.045075  1177.419355  17837.837838  \n",
      "\n",
      "[98179 rows x 371 columns]\n"
     ]
    }
   ],
   "source": [
    "class Net(nn.Module):\n",
    "    def __init__(self, *args) -> None:\n",
    "        super(Net, self).__init__()\n",
    "        input_size, hidden_size, dropout, num_layers = args\n",
    "        self.rnn = nn.RNN(input_size=input_size, hidden_size=hidden_size, dropout=dropout, num_layers=num_layers)\n",
    "        print(self.rnn)\n",
    "\n",
    "    def forward(self, x):\n",
    "        print(x)\n",
    "        \n",
    "args = (input_size, hidden_size, 0.2, num_layers)\n",
    "model = Net(*args)\n",
    "model(train)"
   ]
  }
 ],
 "metadata": {
  "kernelspec": {
   "display_name": ".venv",
   "language": "python",
   "name": "python3"
  },
  "language_info": {
   "codemirror_mode": {
    "name": "ipython",
    "version": 3
   },
   "file_extension": ".py",
   "mimetype": "text/x-python",
   "name": "python",
   "nbconvert_exporter": "python",
   "pygments_lexer": "ipython3",
   "version": "3.12.2"
  }
 },
 "nbformat": 4,
 "nbformat_minor": 2
}
