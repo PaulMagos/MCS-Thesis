{
 "cells": [
  {
   "cell_type": "code",
   "execution_count": 1,
   "metadata": {},
   "outputs": [],
   "source": [
    "import torch\n",
    "from torch import nn, optim\n",
    "import numpy as np\n",
    "import matplotlib.pyplot as plt\n",
    "import pandas as pd\n",
    "import pickle\n",
    "import os\n",
    "!pip freeze > requirements.txt\n",
    "# device = 'cuda' if torch.cuda.is_available() else 'mps' if torch.backends.mps.is_available() else 'cpu'\n",
    "device = 'cpu'\n",
    "\n",
    "hidden_size = 10\n",
    "input_size = 1\n",
    "output_size = 1\n",
    "num_layers = 1\n",
    "lr = 0.01\n",
    "# number of points\n",
    "num_time_steps = 50"
   ]
  },
  {
   "cell_type": "code",
   "execution_count": 2,
   "metadata": {},
   "outputs": [
    {
     "name": "stdout",
     "output_type": "stream",
     "text": [
      "Train Split: 98179\n",
      "Validation Split: 28051\n",
      "Test Split: 14026\n"
     ]
    }
   ],
   "source": [
    "if not os.path.exists('data/train.pkl'):\n",
    "    data = pd.read_csv(f'data/LD2011_2014.txt', sep=\";\")\n",
    "    data.columns = ['Date'] + list(data.columns[1:])\n",
    "    data[data.columns[1:]] = data[data.columns[1:]].apply(lambda x: [str(el).replace(',', '.') for el in x]).astype('float64')\n",
    "    data['Date'] = data['Date'].astype('datetime64[ns]')\n",
    "    train, validation, test = \\\n",
    "                np.split(data.sample(frac=1, random_state=42), \n",
    "                        [int(.7*len(data)), int(.9*len(data))])\n",
    "                \n",
    "    pickle.dump(train, open('data/train.pkl', 'wb'))\n",
    "    pickle.dump(validation, open('data/validation.pkl', 'wb'))\n",
    "    pickle.dump(test, open('data/test.pkl', 'wb'))\n",
    "                \n",
    "    print(f'Original Dataset: {len(data)}\\nTrain Split: {len(train)}\\nValidation Split: {len(validation)}\\nTest Split: {len(test)}')\n",
    "else:\n",
    "    train = pickle.load(open('data/train.pkl', 'rb'))\n",
    "    validation = pickle.load(open('data/validation.pkl', 'rb'))\n",
    "    test = pickle.load(open('data/test.pkl', 'rb'))\n",
    "    print(f'Train Split: {len(train)}\\nValidation Split: {len(validation)}\\nTest Split: {len(test)}')\n",
    "    "
   ]
  },
  {
   "cell_type": "code",
   "execution_count": 3,
   "metadata": {},
   "outputs": [],
   "source": [
    "class Net(nn.Module):\n",
    "    def __init__(self, *args, **kwargs) -> None:\n",
    "        super(Net, self).__init__(*args, **kwargs)\n",
    "        \n",
    "        self.rnn = nn.RNN(\n",
    "            input_size=input_size,\n",
    "            hidden_size=hidden_size,\n",
    "            num_layers=num_layers,\n",
    "            batch_first=True,\n",
    "            device=device\n",
    "        )\n",
    "        \n",
    "        self.linear = nn.Linear(hidden_size, output_size, device=device)\n",
    "        \n",
    "    def forward(self, x, hidden_prev):\n",
    "        out, hidden_prev = self.rnn(x, hidden_prev)\n",
    "        out = out.reshape(-1, hidden_size)\n",
    "        \n",
    "        out = self.linear(out)\n",
    "        out = out.unsqueeze(dim=0)\n",
    "        return out, hidden_prev"
   ]
  }
 ],
 "metadata": {
  "kernelspec": {
   "display_name": ".venv",
   "language": "python",
   "name": "python3"
  },
  "language_info": {
   "codemirror_mode": {
    "name": "ipython",
    "version": 3
   },
   "file_extension": ".py",
   "mimetype": "text/x-python",
   "name": "python",
   "nbconvert_exporter": "python",
   "pygments_lexer": "ipython3",
   "version": "3.12.2"
  }
 },
 "nbformat": 4,
 "nbformat_minor": 2
}
