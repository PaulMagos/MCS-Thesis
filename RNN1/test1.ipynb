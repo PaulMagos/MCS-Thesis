{
 "cells": [
  {
   "cell_type": "code",
   "execution_count": 1,
   "metadata": {},
   "outputs": [],
   "source": [
    "import torch\n",
    "from torch import nn, optim\n",
    "import numpy as np\n",
    "import matplotlib.pyplot as plt\n",
    "import pandas as pd\n",
    "import pickle\n",
    "import os\n",
    "!pip freeze > requirements.txt\n",
    "# device = 'cuda' if torch.cuda.is_available() else 'mps' if torch.backends.mps.is_available() else 'cpu'\n",
    "device = 'cpu'\n",
    "\n",
    "hidden_size = 10\n",
    "input_size = 370\n",
    "output_size = 370\n",
    "num_layers = 5\n",
    "lr = 0.01\n",
    "num_time_steps = 50"
   ]
  },
  {
   "cell_type": "code",
   "execution_count": 2,
   "metadata": {},
   "outputs": [
    {
     "name": "stdout",
     "output_type": "stream",
     "text": [
      "Energy DATA\n",
      "Train Split: 98179\n",
      "Validation Split: 28051\n",
      "Test Split: 14026\n"
     ]
    }
   ],
   "source": [
    "if not os.path.exists('data/Energy/train.pkl'):\n",
    "    data = pd.read_csv(f'data/Energy/LD2011_2014.txt', sep=\";\")\n",
    "    data.columns = ['Date'] + list(data.columns[1:])\n",
    "    data[data.columns[1:]] = data[data.columns[1:]].apply(lambda x: [str(el).replace(',', '.') for el in x]).astype('float64')\n",
    "    data['Date'] = data['Date'].astype('datetime64[ns]')\n",
    "    train, validation, test = \\\n",
    "                np.split(data.sample(frac=1, random_state=42), \n",
    "                        [int(.7*len(data)), int(.9*len(data))])\n",
    "                \n",
    "    pickle.dump(train, open('data/Energy/train.pkl', 'wb'))\n",
    "    pickle.dump(validation, open('data/Energy/validation.pkl', 'wb'))\n",
    "    pickle.dump(test, open('data/Energy/test.pkl', 'wb'))\n",
    "                \n",
    "    print(f'Energy DATA\\nOriginal Dataset: {len(data)}\\nTrain Split: {len(train)}\\nValidation Split: {len(validation)}\\nTest Split: {len(test)}')\n",
    "else:\n",
    "    train = pickle.load(open('data/Energy/train.pkl', 'rb'))\n",
    "    validation = pickle.load(open('data/Energy/validation.pkl', 'rb'))\n",
    "    test = pickle.load(open('data/Energy/test.pkl', 'rb'))\n",
    "    print(f'Energy DATA\\nTrain Split: {len(train)}\\nValidation Split: {len(validation)}\\nTest Split: {len(test)}')\n",
    "    "
   ]
  },
  {
   "cell_type": "code",
   "execution_count": 3,
   "metadata": {},
   "outputs": [
    {
     "name": "stdout",
     "output_type": "stream",
     "text": [
      "EEG DATA\n",
      "Train Split: 10486\n",
      "Validation Split: 2996\n",
      "Test Split: 1498\n"
     ]
    }
   ],
   "source": [
    "from scipy.io import arff\n",
    "data = arff.loadarff('data/EEG/EEG Eye State.arff')\n",
    "data = pd.DataFrame(data[0])\n",
    "catCols = [col for col in data.columns if data[col].dtype==\"O\"]\n",
    "data[catCols]=data[catCols].apply(lambda x: x.str.decode('utf8'))\n",
    "data\n",
    "\n",
    "\n",
    "if not os.path.exists('data/EEG/train.pkl'):\n",
    "    data = arff.loadarff('data/EEG/EEG Eye State.arff')\n",
    "    data = pd.DataFrame(data[0])\n",
    "    catCols = [col for col in data.columns if data[col].dtype==\"O\"]\n",
    "    data[catCols]=data[catCols].apply(lambda x: x.str.decode('utf8'))\n",
    "    train, validation, test = \\\n",
    "                np.split(data.sample(frac=1, random_state=42), \n",
    "                        [int(.7*len(data)), int(.9*len(data))])\n",
    "                \n",
    "    pickle.dump(train, open('data/EEG/train.pkl', 'wb'))\n",
    "    pickle.dump(validation, open('data/EEG/validation.pkl', 'wb'))\n",
    "    pickle.dump(test, open('data/EEG/test.pkl', 'wb'))\n",
    "                \n",
    "    print(f'EEG DATA\\nOriginal Dataset: {len(data)}\\nTrain Split: {len(train)}\\nValidation Split: {len(validation)}\\nTest Split: {len(test)}')\n",
    "else:\n",
    "    train = pickle.load(open('data/EEG/train.pkl', 'rb'))\n",
    "    validation = pickle.load(open('data/EEG/validation.pkl', 'rb'))\n",
    "    test = pickle.load(open('data/EEG/test.pkl', 'rb'))\n",
    "    print(f'EEG DATA\\nTrain Split: {len(train)}\\nValidation Split: {len(validation)}\\nTest Split: {len(test)}')"
   ]
  },
  {
   "cell_type": "code",
   "execution_count": 4,
   "metadata": {},
   "outputs": [
    {
     "ename": "SyntaxError",
     "evalue": "invalid syntax (1245027027.py, line 9)",
     "output_type": "error",
     "traceback": [
      "\u001b[0;36m  Cell \u001b[0;32mIn[4], line 9\u001b[0;36m\u001b[0m\n\u001b[0;31m    x.\u001b[0m\n\u001b[0m      ^\u001b[0m\n\u001b[0;31mSyntaxError\u001b[0m\u001b[0;31m:\u001b[0m invalid syntax\n"
     ]
    }
   ],
   "source": [
    "class Net(nn.Module):\n",
    "    def __init__(self, *args) -> None:\n",
    "        super(Net, self).__init__()\n",
    "        input_size, hidden_size, dropout, num_layers, device = args\n",
    "        self.rnn = nn.RNN(input_size=input_size, hidden_size=hidden_size, dropout=dropout, num_layers=num_layers, device=device)\n",
    "\n",
    "    def forward(self, x):\n",
    "        if not isinstance(x, torch.Tensor):\n",
    "            x.\n",
    "        # out = self.rnn(x)\n",
    "        # print(out)\n",
    "        \n",
    "args = (input_size, hidden_size, 0.2, num_layers, device)\n",
    "model = Net(*args)\n",
    "model(train)"
   ]
  }
 ],
 "metadata": {
  "kernelspec": {
   "display_name": ".venv",
   "language": "python",
   "name": "python3"
  },
  "language_info": {
   "codemirror_mode": {
    "name": "ipython",
    "version": 3
   },
   "file_extension": ".py",
   "mimetype": "text/x-python",
   "name": "python",
   "nbconvert_exporter": "python",
   "pygments_lexer": "ipython3",
   "version": "3.12.2"
  }
 },
 "nbformat": 4,
 "nbformat_minor": 2
}
